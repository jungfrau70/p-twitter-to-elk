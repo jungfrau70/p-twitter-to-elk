{
 "cells": [
  {
   "cell_type": "markdown",
   "id": "51fd2104-c480-4d69-8ac7-d2408af5b10b",
   "metadata": {},
   "source": [
    "# Scraping tweet using twint and analyzing with NLP"
   ]
  },
  {
   "cell_type": "markdown",
   "id": "d856320e-f5a7-4fdf-9a86-0e64634e8641",
   "metadata": {},
   "source": [
    "https://medium.com/@pragya_paudyal/scraping-tweet-using-twint-and-analyzing-with-nlp-932e01ad5587"
   ]
  },
  {
   "cell_type": "code",
   "execution_count": 1,
   "id": "8d949f30-581a-40ed-b036-3bee72ac746b",
   "metadata": {},
   "outputs": [],
   "source": [
    "import twint \n",
    "import nest_asyncio \n",
    "nest_asyncio.apply()"
   ]
  },
  {
   "cell_type": "code",
   "execution_count": 2,
   "id": "035b23fb-7ff3-4295-ac63-f3ea2342df45",
   "metadata": {},
   "outputs": [],
   "source": [
    "c = twint.Config()"
   ]
  },
  {
   "cell_type": "code",
   "execution_count": 4,
   "id": "a9e00dee-3609-43b8-85d0-2f89cd884651",
   "metadata": {},
   "outputs": [],
   "source": [
    "c.Search= \"COVID19\" # Here, I am searching for tweets mentioning “covid19”. \n",
    "c.Lang= \"en\" # Searching tweets which are only english language. \n",
    "c.Pandas= True # Enable Pandas integration.\n",
    "c.Limit= 100 # I am scraping 100 tweets."
   ]
  },
  {
   "cell_type": "code",
   "execution_count": null,
   "id": "7a220504-0b10-48af-aabe-b1332e3f5929",
   "metadata": {},
   "outputs": [
    {
     "name": "stderr",
     "output_type": "stream",
     "text": [
      "CRITICAL:root:twint.run:Twint:Feed:noDataExpecting value: line 1 column 1 (char 0)\n",
      "sleeping for 1.0 secs\n",
      "CRITICAL:root:twint.run:Twint:Feed:noDataExpecting value: line 1 column 1 (char 0)\n",
      "sleeping for 8.0 secs\n",
      "CRITICAL:root:twint.run:Twint:Feed:noDataExpecting value: line 1 column 1 (char 0)\n",
      "sleeping for 27.0 secs\n",
      "CRITICAL:root:twint.run:Twint:Feed:noDataExpecting value: line 1 column 1 (char 0)\n",
      "sleeping for 64.0 secs\n"
     ]
    }
   ],
   "source": [
    "twint.run.Search(c)"
   ]
  },
  {
   "cell_type": "code",
   "execution_count": null,
   "id": "c350f9e5-416c-4686-a231-a4ee5d02c8da",
   "metadata": {},
   "outputs": [],
   "source": [
    "def columne_names():\n",
    "  return twint.output.panda.Tweets_df.columns\n",
    "def twint_to_pd(columns):\n",
    "  return twint.output.panda.Tweets_df[columns]"
   ]
  }
 ],
 "metadata": {
  "kernelspec": {
   "display_name": "Python 3",
   "language": "python",
   "name": "python3"
  },
  "language_info": {
   "codemirror_mode": {
    "name": "ipython",
    "version": 3
   },
   "file_extension": ".py",
   "mimetype": "text/x-python",
   "name": "python",
   "nbconvert_exporter": "python",
   "pygments_lexer": "ipython3",
   "version": "3.8.9"
  }
 },
 "nbformat": 4,
 "nbformat_minor": 5
}
