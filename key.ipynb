{
 "cells": [
  {
   "cell_type": "code",
   "execution_count": 2,
   "id": "d8f35cbf-e895-4f37-a1ac-56f33fa961a0",
   "metadata": {},
   "outputs": [],
   "source": [
    "consumer_key = 'iDmciYm5UDpcqMEww8Hvv5szl'\n",
    "consumer_secret = '4MeCYwrwxsIw2vflWSlVQdFC7Luv5VDYatl63Uh6ZNGBYqcLwr'\n",
    "access_token = '104431837-mrtdMgvcDnUIEVx2NPdURthIk37m1PBk1rGWUjSU'\n",
    "access_token_secret = 'vk9pByLZNBCZ856hBnEvZvFmBGmb7h0PQLxpL74wq1JuC'"
   ]
  },
  {
   "cell_type": "code",
   "execution_count": null,
   "id": "0bad3031-646a-423f-bf93-6e3d25df86e2",
   "metadata": {},
   "outputs": [],
   "source": []
  }
 ],
 "metadata": {
  "kernelspec": {
   "display_name": "Python 3",
   "language": "python",
   "name": "python3"
  },
  "language_info": {
   "codemirror_mode": {
    "name": "ipython",
    "version": 3
   },
   "file_extension": ".py",
   "mimetype": "text/x-python",
   "name": "python",
   "nbconvert_exporter": "python",
   "pygments_lexer": "ipython3",
   "version": "3.8.9"
  }
 },
 "nbformat": 4,
 "nbformat_minor": 5
}
